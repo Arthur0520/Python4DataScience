{
 "cells": [
  {
   "cell_type": "markdown",
   "metadata": {},
   "source": [
    "    JLUFE                                                     Spring 2021 (Feb-July) \n",
    "\n",
    "                             Final Assignment Report        \n",
    "                                 \n",
    "                          \n",
    "                     JILIN UNIVERSITY OF FINANCE AND ECONOMICS  \n",
    "\n",
    "      Department of College of Managment Science and Information Engineering\n",
    "           \n",
    "                    BBA in Information management and information system\n",
    "                                  \n",
    "                                     (2021)\n",
    "                                          \n",
    "                              \n",
    "                                   \n",
    "                            Final Assignment: Part 01\n",
    "                                          \n",
    "                                   11/07/2021\n",
    "                                      \n",
    "                               MODULE: Data Mining \n",
    "                               \n",
    "                  Submitted by: Arthur(杨胜杉) 0314021805402 (1854)\n",
    "                                 QQ: 1224150631"
   ]
  },
  {
   "cell_type": "markdown",
   "metadata": {},
   "source": [
    "# RULES:\n",
    "\n",
    "1. I have added tips and required learning resources for each question, which helps you to solve the exercise. \n",
    "\n",
    "2. Finish the assignment on your **OWN** (**Any student find copying/sharing from classmates or internet will get '0' points!!!**)\n",
    "\n",
    "3. Once you finish the Assignment **[convert your .ipynb file into PDF](https://github.com/milaan9/91_Python_Tips/blob/main/000_Convert_Jupyter_Notebook_to_PDF.ipynb)** (both .pynb and .pdf file will be required!)\n",
    "\n",
    "4. Create **.zip** file and include your two files:\n",
    "    1. Your Jupyter Notebook file (**001_Python_Assignment_01.ipynb**)\n",
    "    2. Your PDF converted file of 001_Python_Assignment_01.ipynb (**001_Python_Assignment_01.pdf**)\n",
    "    \n",
    "5. Name your .zip file as your student number and name.\n",
    "   example: **0318021907632 Milan(米兰).zip**"
   ]
  },
  {
   "cell_type": "markdown",
   "metadata": {},
   "source": [
    "# Python Assignment 01"
   ]
  },
  {
   "cell_type": "markdown",
   "metadata": {},
   "source": [
    "### Question 1: \n",
    "\n",
    "Write a python program that generates a list containing only common elements between the two lists (without duplicates). Make sure your program works on two lists of different sizes.\n",
    "\n",
    "Expected Output:\n",
    "```\n",
    "List 1: [0, 2, 4, 6, 12, 13, 14, 18, 20, 24, 25, 26, 27]\n",
    "List 2: [0, 4, 7, 9, 10, 11, 13, 14, 17, 18, 20, 33, 39]\n",
    "List of common elements are:  [0, 4, 13, 14, 18, 20]\n",
    "```\n",
    "\n",
    "For extra points:\n",
    "1. Generate the two list randomly to test this\n",
    "2. Generate each list in one line of Python."
   ]
  },
  {
   "cell_type": "code",
   "execution_count": 6,
   "metadata": {
    "collapsed": false
   },
   "outputs": [
    {
     "name": "stdout",
     "output_type": "stream",
     "text": [
      "[0, 2, 4, 6, 12, 13, 14, 18, 20, 24, 25, 26, 27] [0, 4, 7, 9, 10, 11, 13, 14, 17, 18, 20, 33, 39] {0, 4, 13, 14, 18, 20}\n",
      "[88, 29, 46, 89, 62, 70, 55, 18] [35, 10, 25, 88, 32, 67, 38, 19, 70, 28, 63, 68, 82] {88, 70}\n"
     ]
    }
   ],
   "source": [
    "# Solution 1: \n",
    "import random\n",
    "i=[0,2,4,6,12,13,14,18,20,24,25,26,27]\n",
    "j=[0,4,7,9,10,11,13,14,17,18,20,33,39]\n",
    "k=set(i)&set(j)\n",
    "print(i,j,k)\n",
    "list0=[random.randint(1,100) for i in range(8)]\n",
    "list1=[random.randint(1,100) for i in range(13)]\n",
    "list2=set(list0)&set(list1)\n",
    "print(list0,list1,list2)"
   ]
  },
  {
   "cell_type": "markdown",
   "metadata": {},
   "source": [
    "### Question 2: \n",
    "\n",
    "Write a python program to find the gravitational force acting between two objects.\n",
    "\n",
    "\\begin{equation*}\n",
    "F=G\\frac{{m_1}{m_2}}{{r^2}}\n",
    "\\end{equation*}\n",
    "\n",
    "Expected Output:\n",
    "```\n",
    "Enter the first mass (m1): 5000000\n",
    "Enter the second mass (m2): 900000\n",
    "Enter the distance between the centres of the masses (N): 30\n",
    "Hence, the Gravitational Force is:  0.33 N\n",
    "```"
   ]
  },
  {
   "cell_type": "code",
   "execution_count": 10,
   "metadata": {
    "collapsed": false
   },
   "outputs": [
    {
     "name": "stdout",
     "output_type": "stream",
     "text": [
      "Enter the first mass (m1):5000000\n",
      "Enter the second mass (m2):900000\n",
      "Enter the distance between the centres of the masses (N):30\n",
      "Hence, the Gravitational Force is:0.33N\n"
     ]
    }
   ],
   "source": [
    "# Solution 2: \n",
    "import math\n",
    "from scipy.constants import G\n",
    "m1=float(input('Enter the first mass (m1):'))\n",
    "m2=float(input('Enter the second mass (m2):'))\n",
    "r=float(input('Enter the distance between the centres of the masses (N):'))\n",
    "F=str((G*m1*m2)/(r*r))\n",
    "A=float(F)\n",
    "print('Hence, the Gravitational Force is:'+'%.2f'%A+'N')"
   ]
  },
  {
   "cell_type": "markdown",
   "metadata": {},
   "source": [
    "### Question 3: \n",
    "\n",
    "Write a python program that generates a new list that contains only even elements from the randomly generated list.\n",
    "\n",
    "Expected Output:\n",
    "```\n",
    "Randomly generated list: [64, 63, 90, 13, 38, 27, 19, 51, 97, 32, 18, 75]\n",
    "List of even elements: [64, 90, 38, 32, 18]\n",
    "```"
   ]
  },
  {
   "cell_type": "code",
   "execution_count": 8,
   "metadata": {
    "collapsed": false
   },
   "outputs": [
    {
     "name": "stdout",
     "output_type": "stream",
     "text": [
      "Randomly generated list:  [52, 69, 92, 45, 79, 57, 6, 94, 48, 90, 16, 56, 87, 84, 9]\n",
      "List of even elements:  [84, 56, 16, 90, 48, 94, 6, 92, 52]\n"
     ]
    }
   ],
   "source": [
    "# Solution 3: \n",
    "import random\n",
    "a1=random.sample(range(1,100),15)\n",
    "print('Randomly generated list: ',a1)\n",
    "b1=[]\n",
    "for i in a1[::-1]:\n",
    "    if i%2==0:\n",
    "        b1.append(i)\n",
    "print('List of even elements: ',b1)"
   ]
  },
  {
   "cell_type": "markdown",
   "metadata": {},
   "source": [
    "### Question 4: \n",
    "\n",
    "Write a python program to check if a substring is present in a given string.\n",
    "\n",
    "Expected Output:\n",
    "```\n",
    "Enter string:Hello world\n",
    "Enter word:world\n",
    "Substring in string!\n",
    "```"
   ]
  },
  {
   "cell_type": "code",
   "execution_count": 10,
   "metadata": {
    "collapsed": false
   },
   "outputs": [
    {
     "name": "stdout",
     "output_type": "stream",
     "text": [
      "enter string:hello world\n",
      "enter word:world\n",
      "Substring in string!\n"
     ]
    }
   ],
   "source": [
    "# Solution 4: \n",
    "a=str(input('enter string:'))\n",
    "b=str(input('enter word:'))\n",
    "if b in a:\n",
    "    print('Substring in string!')\n",
    "else: \n",
    "    print('Substring not in string!')"
   ]
  },
  {
   "cell_type": "markdown",
   "metadata": {},
   "source": [
    "### Question 5: \n",
    "\n",
    "Write a python program that asks the user last 2 digit of (your) student number and generates Fibonacci series.\n",
    "\n",
    "Expected Output:\n",
    "```\n",
    "How many numbers that generates?: 12\n",
    "Fibonacci series:\n",
    " [1, 1, 2, 3, 5, 8, 13, 21, 34, 55, 89, 144]\n",
    "```"
   ]
  },
  {
   "cell_type": "code",
   "execution_count": 11,
   "metadata": {
    "collapsed": false
   },
   "outputs": [
    {
     "name": "stdout",
     "output_type": "stream",
     "text": [
      "How many numbers that generates?: 02\n",
      "Fibonacci series:\n",
      "1\n",
      "1\n",
      "1\n"
     ]
    }
   ],
   "source": [
    "# Solution 5: \n",
    "def Fibonacci(i):\n",
    "    if i<3:\n",
    "        return 1\n",
    "    return Fibonacci(i-1) + Fibonacci(i-2)\n",
    "i=int(input('How many numbers that generates?: '))\n",
    "print('Fibonacci series:')\n",
    "for j in range(i+1):\n",
    "    print(Fibonacci(j))"
   ]
  },
  {
   "cell_type": "markdown",
   "metadata": {},
   "source": [
    "### Question 6: \n",
    "\n",
    "Write a python program using function that generates a new list that contains all the elements of the first list and removing all the duplicates.\n",
    "\n",
    "Expected Output:\n",
    "```\n",
    "List:  [1, 2, 3, 4, 3, 2, 1]\n",
    "Result List using loop:  [1, 2, 3, 4]\n",
    "Result List using sets:  [1, 2, 3, 4]\n",
    "```\n",
    "\n",
    "For extra points:\n",
    "1. Generate the result using two different functions using:\n",
    "    - one using a loop and constructing a list\n",
    "    - sets"
   ]
  },
  {
   "cell_type": "code",
   "execution_count": 13,
   "metadata": {
    "collapsed": false
   },
   "outputs": [
    {
     "name": "stdout",
     "output_type": "stream",
     "text": [
      "[1, 2, 3, 4, 3, 2, 1]\n",
      "Result List using loop: [1, 2, 3, 4]\n",
      "Result List using sets: {1, 2, 3, 4}\n"
     ]
    }
   ],
   "source": [
    "# Solution 6: \n",
    "import random\n",
    "a=[1,2,3,4,3,2,1]\n",
    "print(a)\n",
    "b=[]\n",
    "for i in a:\n",
    "    if i not in b:\n",
    "        b.append(i)\n",
    "print('Result List using loop:',b)\n",
    "s=set(a)\n",
    "print('Result List using sets:',s)"
   ]
  },
  {
   "cell_type": "markdown",
   "metadata": {},
   "source": [
    "### Question 7: \n",
    "\n",
    "Write a python program using functions that asks the user for a string containing multiple words and print back to the user the same string, except with the words in reverse order.\n",
    "\n",
    "Expected Output:\n",
    "```\n",
    "Please enter a sentence: My name is Milaan\n",
    "The reverse sentence is: Milaan is name My\n",
    "```"
   ]
  },
  {
   "cell_type": "code",
   "execution_count": 14,
   "metadata": {
    "collapsed": false
   },
   "outputs": [
    {
     "name": "stdout",
     "output_type": "stream",
     "text": [
      "Please enter a sentence:my name is Arthur\n",
      "The reverse sentence is: Arthur is name my\n"
     ]
    }
   ],
   "source": [
    "# Solution 7: \n",
    "c=' '\n",
    "sentence=input('Please enter a sentence:')\n",
    "sentence=sentence.split()\n",
    "c=c.join(sentence[::-1])\n",
    "print('The reverse sentence is:',c)"
   ]
  },
  {
   "cell_type": "markdown",
   "metadata": {},
   "source": [
    "### Question 8: \n",
    "\n",
    "Write a python program using function that encrypts a given input with these steps:\n",
    "\n",
    "Input: \"apple\"\n",
    "\n",
    "* Step 1: Reverse the input: \"elppa\"\n",
    "* Step 2: Replace all vowels using the following chart:\n",
    "\n",
    "```python\n",
    "a => 0\n",
    "e => 1\n",
    "i => 2\n",
    "o => 2\n",
    "u => 3\n",
    "# 1lpp0\n",
    "```\n",
    "\n",
    "* Step 3: Add \"aca\" to the end of the word: \"1lpp0aca\"\n",
    "\n",
    "Expected Output:\n",
    "```\n",
    "Word:  apple\n",
    "Encrypted word: 1lpp0aca\n",
    "```\n",
    "\n",
    "More Examples:\n",
    "```\n",
    "encrypt(\"banana\") ➞ \"0n0n0baca\"\n",
    "encrypt(\"karaca\") ➞ \"0c0r0kaca\"\n",
    "encrypt(\"burak\") ➞ \"k0r3baca\"\n",
    "encrypt(\"alpaca\") ➞ \"0c0pl0aca\"\n",
    "```"
   ]
  },
  {
   "cell_type": "code",
   "execution_count": 15,
   "metadata": {
    "collapsed": false
   },
   "outputs": [
    {
     "name": "stdout",
     "output_type": "stream",
     "text": [
      "Word:banana\n",
      "Encrypted word: 0n0n0baca\n"
     ]
    }
   ],
   "source": [
    "# Solution 8: \n",
    "a=str(input('Word:'))\n",
    "a=a[::-1]\n",
    "Word=''\n",
    "for i in a:\n",
    "    if (i=='a'): \n",
    "        Word+='0'\n",
    "    elif (i=='e'):\n",
    "        Word+='1'\n",
    "    elif (i=='i'):\n",
    "        Word+='2'\n",
    "    elif (i=='o'):\n",
    "        Word+='2'\n",
    "    elif (i=='u'): \n",
    "        Word+='4'\n",
    "    else: Word+=i\n",
    "print('Encrypted word:',Word+'aca')"
   ]
  },
  {
   "cell_type": "markdown",
   "metadata": {},
   "source": [
    "### Question 9: \n",
    "\n",
    "Write a python program using function that takes a number num and returns its length.\n",
    "\n",
    "Expected Output:\n",
    "```\n",
    "Enter number: 963969\n",
    "Total digits in given number:  6\n",
    "```"
   ]
  },
  {
   "cell_type": "code",
   "execution_count": 16,
   "metadata": {
    "collapsed": false
   },
   "outputs": [
    {
     "name": "stdout",
     "output_type": "stream",
     "text": [
      "Enter number:1234567\n",
      "Total digits in given number: 7\n"
     ]
    }
   ],
   "source": [
    "# Solution 9: \n",
    "def length(s):\n",
    "    return len(s)\n",
    "P=input('Enter number:')\n",
    "print('Total digits in given number:',length(P))"
   ]
  },
  {
   "cell_type": "markdown",
   "metadata": {},
   "source": [
    "### Question 10: \n",
    "\n",
    "Write a python program using function that takes a string and returns the number (count) of vowels contained within it.\n",
    "\n",
    "Expected Output:\n",
    "```\n",
    "Enter string: Celebration\n",
    "Total vowels in the string: 5\n",
    "Identified vowels are:  ['e', 'e', 'a', 'i', 'o']\n",
    "```\n",
    "\n",
    "More examples:\n",
    "```\n",
    "count_vowels(\"Palm\") ➞ 1\n",
    "count_vowels(\"Prediction\") ➞ 4\n",
    "```"
   ]
  },
  {
   "cell_type": "code",
   "execution_count": 17,
   "metadata": {
    "collapsed": false
   },
   "outputs": [
    {
     "name": "stdout",
     "output_type": "stream",
     "text": [
      "Enter string:Palm\n",
      "Total vowels in the string: 1\n",
      "Identified vowels are: ['a']\n"
     ]
    }
   ],
   "source": [
    "# Solution 10: \n",
    "def vowels(x):\n",
    "    count=0\n",
    "    h=[]\n",
    "    for i in x:\n",
    "        if(i=='a'):\n",
    "            h.append(i)\n",
    "            count+=1\n",
    "        elif(i=='e'):\n",
    "            h.append(i)\n",
    "            count+=1\n",
    "        elif(i=='i'):\n",
    "            h.append(i)\n",
    "            count+=1\n",
    "        elif(i=='o'):\n",
    "            h.append(i)\n",
    "            count+=1\n",
    "        elif(i=='u'):\n",
    "            h.append(i)\n",
    "            count+=1\n",
    "    print('Total vowels in the string:',count)\n",
    "    print('Identified vowels are:',h)\n",
    "\n",
    "x=input('Enter string:')\n",
    "vowels(x)"
   ]
  },
  {
   "cell_type": "markdown",
   "metadata": {},
   "source": [
    "### Question 11:\n",
    "\n",
    "Write a python program to draw pattern as below:\n",
    "\n",
    "Expected Output:\n",
    "```\n",
    "--- --- --- \n",
    "|   |   |   |\n",
    " --- --- --- \n",
    "|   |   |   |\n",
    " --- --- --- \n",
    "|   |   |   |\n",
    " --- --- --- \n",
    "```\n",
    "\n",
    "For extra point:\n",
    "1. Generate solution by asking the user what size game board they want to draw, and draw it for them to the screen using Python’s print statement.\n",
    "\n",
    "Expected Output:\n",
    "```\n",
    "Enter the size of board you want to draw: 4\n",
    " --- --- --- ---\n",
    "|   |   |   |   |   \n",
    " --- --- --- ---\n",
    "|   |   |   |   |   \n",
    " --- --- --- ---\n",
    "|   |   |   |   |   \n",
    " --- --- --- ---\n",
    "|   |   |   |   |   \n",
    " --- --- --- ---\n",
    "```"
   ]
  },
  {
   "cell_type": "code",
   "execution_count": 19,
   "metadata": {
    "collapsed": false
   },
   "outputs": [
    {
     "name": "stdout",
     "output_type": "stream",
     "text": [
      "Enter the size of board you want to draw4\n",
      " --- --- --- ---\n",
      "|   |   |   |   |   \n",
      " --- --- --- ---\n",
      "|   |   |   |   |   \n",
      " --- --- --- ---\n",
      "|   |   |   |   |   \n",
      " --- --- --- ---\n",
      "|   |   |   |   |   \n",
      " --- --- --- ---\n"
     ]
    }
   ],
   "source": [
    "# Solution 11: \n",
    "size=int(input('Enter the size of board you want to draw'))\n",
    "for i in range(2*size+1):\n",
    "    if i%2==0:\n",
    "        print(' ---'*size)\n",
    "    else:\n",
    "        print('|   '*(size+1))"
   ]
  },
  {
   "cell_type": "markdown",
   "metadata": {},
   "source": [
    "### Question 12: \n",
    "\n",
    "Write a python program to ask user for a string and then perform following operations:\n",
    "1. Calculate the num of digits \n",
    "2. Calculate the num of letters \n",
    "3. Calculate the num of vowels\n",
    "4. Calculate the num of lowercase characters\n",
    "5. replace ' ' with '_' in the string\n",
    "6. Print and Store the ouput to 'output.txt' file.\n",
    "\n",
    "Expected Output:\n",
    "```\n",
    "Enter string: Hello World 123\n",
    "Output printed in'output.txt'\n",
    "```\n",
    "\n",
    "Expected Output in output.txt:\n",
    "```\n",
    "The entered string is: Hello World 123\n",
    "The number of digits is: 3\n",
    "The number of characters is: 15\n",
    "The number of vowels is: 3\n",
    "The number of lowercase characters is: 8\n",
    "The modified string is: Hello_World_123\n",
    "```"
   ]
  },
  {
   "cell_type": "code",
   "execution_count": 8,
   "metadata": {
    "collapsed": false
   },
   "outputs": [
    {
     "name": "stdout",
     "output_type": "stream",
     "text": [
      "The entered string is:Hello World 123\n",
      "The number of digits is: 3\n",
      "The number of characters is: 25\n",
      "The number of vowels is: 3\n",
      "The number of lowercase characters is: 8\n",
      "The modified string is: Hello_World_123\n"
     ]
    }
   ],
   "source": [
    "# Solution 12: \n",
    "a=input('The entered string is:')\n",
    "digits=0\n",
    "Num_of_letters = len(a)\n",
    "Num_of_vowels=0\n",
    "Num_of_lowercase_characters=0\n",
    "b=''\n",
    "for i in a:\n",
    "    if (i.isdigit()):\n",
    "        digits +=1\n",
    "        b +=i\n",
    "    if (i.isalpha()):\n",
    "        Num_of_letters +=1\n",
    "        b +=i\n",
    "    if i in ['a','e','i','o','u','A','E','I','O','U']:\n",
    "        Num_of_vowels +=1      \n",
    "    if (i.islower()):\n",
    "        Num_of_lowercase_characters +=1\n",
    "    if(i == ' '):\n",
    "        b +='_'\n",
    "print('The number of digits is:',digits)\n",
    "print('The number of characters is:',Num_of_letters)\n",
    "print('The number of vowels is:',Num_of_vowels)\n",
    "print('The number of lowercase characters is:',Num_of_lowercase_characters)\n",
    "print('The modified string is:',b)\n",
    "document=open('output.txt','w')\n",
    "document.write('The entered string is:'+a+'\\n')\n",
    "document.write('The number of digits is:'+str(digits)+'\\n')\n",
    "document.write('The number of characters is:'+str(Num_of_letters)+'\\n')\n",
    "document.write('The number of vowels is:'+str(Num_of_vowels)+'\\n')\n",
    "document.write('The number of lowercase characters is:'+str(Num_of_lowercase_characters)+'\\n')\n",
    "document.write('The modified string is:'+b+'\\n')\n",
    "document.close()"
   ]
  },
  {
   "cell_type": "markdown",
   "metadata": {},
   "source": [
    "### Question 13: \n",
    "\n",
    "Write a python program using function that takes as input three variables from user, and returns the largest of the three. Do this without using the Python **`max()`** function!\n",
    "\n",
    "Expected Output:\n",
    "```\n",
    "Please enter three integers separated by comma: 12, 66, 31\n",
    "The maximum value is: 66 \n",
    "```"
   ]
  },
  {
   "cell_type": "code",
   "execution_count": 7,
   "metadata": {
    "collapsed": false
   },
   "outputs": [
    {
     "name": "stdout",
     "output_type": "stream",
     "text": [
      "Please enter three integers separated by comma:12,66,31\n",
      "The maximum value is: 66\n"
     ]
    }
   ],
   "source": [
    "# Solution 13: \n",
    "def f(x,y,z):\n",
    "    Max=x\n",
    "    if(y>x):\n",
    "        Max=y\n",
    "        if(z>y):\n",
    "            Max=z\n",
    "    elif(z>x):\n",
    "        Max=z\n",
    "    return Max\n",
    "n1,n2,n3 = map(int,input('Please enter three integers separated by comma:').split(','))\n",
    "print('The maximum value is:',f(n1,n2,n3))"
   ]
  },
  {
   "cell_type": "markdown",
   "metadata": {},
   "source": [
    "### Question 14: \n",
    "\n",
    "Write a python program where user, will have a number in head between 0 and 100. The program will guess a number, and you, the user, will say whether it is too \"high\", too \"low\", or your number. Also, in the end program should print out how many guesses it took to get your number.\n",
    "\n",
    "Expected Output:\n",
    "```\n",
    "Guess a number between 0 and 100 and tell whether high or low when prompted!\n",
    "My guess is 50. Is that high, low or same? low\n",
    "My guess is 75. Is that high, low or same? low\n",
    "My guess is 88. Is that high, low or same? low\n",
    "My guess is 94. Is that high, low or same? low\n",
    "My guess is 97. Is that high, low or same? low\n",
    "My guess is 99. Is that high, low or same? same\n",
    "Congrats to me! I guessed it in 6 tries.\n",
    "```"
   ]
  },
  {
   "cell_type": "code",
   "execution_count": 18,
   "metadata": {
    "collapsed": false
   },
   "outputs": [
    {
     "name": "stdout",
     "output_type": "stream",
     "text": [
      "Guess a number between 0 and 100 and tell whether high or low when prompted!\n",
      "Please enter the number you want the computer to guess:50\n",
      "My guess is 68. Is that high, low or same? high\n",
      "My guess is 25. Is that high, low or same? low\n",
      "My guess is 53. Is that high, low or same? high\n",
      "My guess is 51. Is that high, low or same? high\n",
      "My guess is 29. Is that high, low or same? low\n",
      "My guess is 37. Is that high, low or same? low\n",
      "My guess is 50. Is that high, low or same? same\n",
      "Congrats to me! I guessed it in 7 tries.\n"
     ]
    }
   ],
   "source": [
    "# Solution 14: \n",
    "import random\n",
    "print('Guess a number between 0 and 100 and tell whether high or low when prompted!')\n",
    "n=int(input('Please enter the number you want the computer to guess:'))\n",
    "a=random.randint(0,100)\n",
    "i=1\n",
    "top=100\n",
    "down=0\n",
    "while a<=100:\n",
    "    num=input('My guess is '+str(a)+'. Is that high, low or same? ')\n",
    "    if(num=='low'):\n",
    "        down=a+1\n",
    "        i+=1\n",
    "        a=random.randint(down,top)\n",
    "    if(num=='high'):\n",
    "        top=a-1\n",
    "        i+=1\n",
    "        a=random.randint(down,top)\n",
    "    if(num=='same'):\n",
    "        break\n",
    "print('Congrats to me! I guessed it in',i,'tries.')"
   ]
  },
  {
   "cell_type": "markdown",
   "metadata": {},
   "source": [
    "### Question 15: \n",
    "\n",
    "Write a python program using function that takes an list(ordered) of numbers (from smallest to largest) and another number. The function decides whether or not the given number is inside the list and returns (then prints) an appropriate boolean.\n",
    "\n",
    ">Hint: Use binary search.\n",
    "\n",
    "Expected Output:\n",
    "```\n",
    "List:  [2, 4, 6, 8, 10]\n",
    "Find  '5': False\n",
    "Find '10': True\n",
    "Find '-1': False\n",
    "Find  '2': True\n",
    "```\n",
    "\n",
    "For extra point:\n",
    "1. Generate list randomly and select he number randomly to be search from the list."
   ]
  },
  {
   "cell_type": "code",
   "execution_count": 6,
   "metadata": {
    "collapsed": false
   },
   "outputs": [
    {
     "name": "stdout",
     "output_type": "stream",
     "text": [
      "List: [3, 5, 5, 7, 8, 10]\n",
      "5 : True\n",
      "19 : False\n",
      "1 : False\n",
      "7 : True\n",
      "12 : False\n"
     ]
    }
   ],
   "source": [
    "# Solution 15: \n",
    "import random\n",
    "def choose(n1,n2,n3,n4):\n",
    "    s=[random.randint(n1,n2) for i in range(n3)]\n",
    "    a=sorted(s)\n",
    "    print('List:',str(a))\n",
    "    b=0\n",
    "    while b!=n4:\n",
    "        b+=1\n",
    "        i=random.randint(1,20)\n",
    "        if i in a:\n",
    "            print(str(i),': True')\n",
    "        else:\n",
    "            print(str(i),': False')\n",
    "\n",
    "choose(0,10,6,5)"
   ]
  },
  {
   "cell_type": "markdown",
   "metadata": {},
   "source": [
    "### Question 16: \n",
    "\n",
    "Write a python program to generate password. Be creative with how you generate passwords - strong passwords have a mix of lowercase letters, uppercase letters, numbers, and symbols. The passwords should be random, generating a new password every time the user asks for a new password. Include your code in a main method.\n",
    "\n",
    "Expected Output:\n",
    "```\n",
    "Please choose strong or weak:\n",
    "strong\n",
    "password: 6|Av.0T^9\n",
    "do you want a new password? y/n\n",
    "n\n",
    "```\n",
    "\n",
    "For extra points:\n",
    "1. Ask the user if they want password to be strong(9 characters) or weak(6 characters)?"
   ]
  },
  {
   "cell_type": "code",
   "execution_count": 1,
   "metadata": {
    "collapsed": false
   },
   "outputs": [
    {
     "name": "stdout",
     "output_type": "stream",
     "text": [
      "Please choose strong or weak:strong\n",
      "password: JOj1CAPWc\n",
      "do you want a new password? y/n:y\n",
      "Please choose strong or weak:weak\n",
      "password: 5q4lx7\n",
      "do you want a new password? y/n:n\n"
     ]
    }
   ],
   "source": [
    "# Solution 16: \n",
    "import random\n",
    "s=0\n",
    "while s==0:\n",
    "    sub=input('Please choose strong or weak:')\n",
    "    if sub=='strong':\n",
    "        print('password:',''.join(random.sample('abcdefghijklmnopqrstuvwxyz!@#$%^&*QWERTYUIOPASDFGHJKLZXCVBNM1234567890',9)))\n",
    "    elif sub=='weak':\n",
    "        print('password:',''.join(random.sample('abcdefghijklmnopqrstuvwxyz!@#$%^&*1234567890',6)))\n",
    "        \n",
    "    b=input('do you want a new password? y/n:')\n",
    "    \n",
    "    if b=='n':\n",
    "        break\n",
    "    else:\n",
    "        if b!='y':\n",
    "            print('do you want a new password? y/n:')"
   ]
  },
  {
   "cell_type": "markdown",
   "metadata": {},
   "source": [
    "### Question 17: \n",
    "\n",
    "Write a python program using function that picks a random word from a list of words from the **[dictionary](https://github.com/milaan9/92_Python_Assignments/blob/main/sowpods.txt)**. Each line in the file contains a single word.\n",
    "\n",
    ">Hint: use the Python random library for picking a random word.\n",
    "\n",
    "Expected Output:\n",
    "```\n",
    "Random word: POTENTIATING\n",
    "```"
   ]
  },
  {
   "cell_type": "code",
   "execution_count": 53,
   "metadata": {
    "collapsed": false
   },
   "outputs": [
    {
     "name": "stdout",
     "output_type": "stream",
     "text": [
      "Random word:OVERSTRAINED\n",
      "\n"
     ]
    }
   ],
   "source": [
    "import random\n",
    "import time\n",
    "f=open('sowpods.txt')\n",
    "def test():  \n",
    "    list1=f.readlines()\n",
    "    random.shuffle(list1)\n",
    "    for i in range(1):\n",
    "        print('Random word:'+list1[i])\n",
    "test()"
   ]
  },
  {
   "cell_type": "markdown",
   "metadata": {},
   "source": [
    "### Question 18: \n",
    "\n",
    "Write a python program where a text(.txt) file is given **[nameslist.txt](https://github.com/milaan9/92_Python_Assignments/blob/main/nameslist.txt)** that contains list of a bunch of names, count how many of each name there are in the file, and print out the results to the screen. \n",
    "\n",
    "Expected Output:\n",
    "```\n",
    "{'Darth': 31, 'Luke': 15, 'Leia': 54}\n",
    "```\n",
    "\n",
    "For extra point:\n",
    "1. Instead of using the **[nameslist.txt](https://github.com/milaan9/92_Python_Assignments/blob/main/nameslist.txt)** file from above (or instead of, if you want the challenge), take this **[SUN_Database.txt](https://github.com/milaan9/92_Python_Assignments/blob/main/SUN_Database.txt)** file, and count how many of each “category” of each image there are. This text file is actually a list of files corresponding to the SUN database scene recognition database, and lists the file directory hierarchy for the images. Once you take a look at the first line or two of the file, it will be clear which part represents the scene category.\n",
    "\n",
    "Expected Output:\n",
    "```\n",
    "abbey: 50\n",
    "airplane_cabin: 50\n",
    "airport_terminal: 50\n",
    "alley: 50\n",
    "amphitheater: 50\n",
    "...\n",
    "...\n",
    "...\n",
    "wrestling_ring: 50\n",
    "yard: 50\n",
    "youth_hostel: 50\n",
    "```"
   ]
  },
  {
   "cell_type": "code",
   "execution_count": 59,
   "metadata": {
    "collapsed": false
   },
   "outputs": [
    {
     "name": "stdout",
     "output_type": "stream",
     "text": [
      "Counter({'Leia': 54, 'Darth': 31, 'Luke': 15})\n"
     ]
    }
   ],
   "source": [
    "# Solution 18: \n",
    "import collections \n",
    "import os\n",
    "f=open('nameslist.txt')\n",
    "s=f.read()\n",
    "result=collections.Counter(s.split())\n",
    "print(result)"
   ]
  },
  {
   "cell_type": "markdown",
   "metadata": {},
   "source": [
    "### Question 19: \n",
    "\n",
    "Write a python program where two .txt files are given that have lists of numbers in them, find the numbers that are overlapping. One '**[primenumbers1_1000.txt](https://github.com/milaan9/92_Python_Assignments/blob/main/primenumbers1_1000.txt)**' file has a list of all prime numbers under 1000, and the other '**[happynumbers1_1000.txt](https://github.com/milaan9/92_Python_Assignments/blob/main/happynumbers1_1000.txt)**' file has a list of **[happy numbers](https://en.wikipedia.org/wiki/Happy_number)** up to 1000.\n",
    "\n",
    "Expected Output:\n",
    "```\n",
    "The list of overlapping numbers:\n",
    " [7, 13, 19, 23, 31, 79, 97, 103, 109, 139, 167, 193, 239, 263, 293, 313, 331, 367, 379, 383, 397, 409, 487, 563, 617, 653, 673, 683, 709, 739, 761, 863, 881, 907, 937]\n",
    "```\n",
    "\n",
    "For extra point:\n",
    "1. Generate solution with functions using list comprehensions"
   ]
  },
  {
   "cell_type": "code",
   "execution_count": 74,
   "metadata": {
    "collapsed": false
   },
   "outputs": [
    {
     "name": "stdout",
     "output_type": "stream",
     "text": [
      "['7\\n', '13\\n', '19\\n', '23\\n', '31\\n', '79\\n', '97\\n', '103\\n', '109\\n', '139\\n', '167\\n', '193\\n', '239\\n', '263\\n', '293\\n', '313\\n', '331\\n', '367\\n', '379\\n', '383\\n', '397\\n', '487\\n', '563\\n', '617\\n', '653\\n', '673\\n', '683\\n', '709\\n', '739\\n', '761\\n', '881\\n', '907\\n', '937\\n']\n"
     ]
    }
   ],
   "source": [
    "# Solution 19: \n",
    "def same(x,y):\n",
    "    list1=[]\n",
    "    for i in x:\n",
    "        if i in y:\n",
    "            list1.append(i)\n",
    "    print(list1)\n",
    "f1=open('primenumbers1_1000.txt')\n",
    "f2=open('happynumbers1_1000.txt')\n",
    "s1=f1.readlines()\n",
    "s2=f2.readlines()\n",
    "same(s1,s2)"
   ]
  },
  {
   "cell_type": "markdown",
   "metadata": {},
   "source": [
    "### Question 20: \n",
    "\n",
    "Create a function that takes a string as an argument and returns the Morse code equivalent.\n",
    "\n",
    "Expected Output:\n",
    "```\n",
    "encode_morse(\"HELP ME !\") ➞ \".... . .-.. .--.   -- .   -.-.--\"\n",
    "```\n",
    "\n",
    "This dictionary can be used for coding:\n",
    "```\n",
    "char_to_dots = {\n",
    "    'A': '.-',   'B': '-...', 'C': '-.-.', 'D': '-..',  'E': '.',    'F': '..-.',\n",
    "    'G': '--.',  'H': '....', 'I': '..',   'J': '.---', 'K': '-.-',  'L': '.-..',\n",
    "    'M': '--',   'N': '-.',   'O': '---',  'P': '.--.', 'Q': '--.-', 'R': '.-.',\n",
    "    'S': '...',  'T': '-',    'U': '..-',  'V': '...-', 'W': '.--',  'X': '-..-',\n",
    "    'Y': '-.--', 'Z': '--..',  \n",
    "        \n",
    "    '0': '-----', '1': '.----', '2': '..---', '3': '...--', '4': '....-', \n",
    "    '5': '.....', '6': '-....', '7': '--...', '8': '---..', '9': '----.',\n",
    "        \n",
    "    ' ': ' ',      '&': '.-...',  \"'\": '.----.', '@': '.--.-.', ')': '-.--.-', \n",
    "    '(': '-.--.',  ':': '---...', ',': '--..--', '=': '-...-',  '!': '-.-.--', \n",
    "    '.': '.-.-.-', '-': '-....-', '+': '.-.-.', '\"': '.-..-.',  '?': '..--..', \n",
    "    '/': '-..-.'\n",
    "}\n",
    "```"
   ]
  },
  {
   "cell_type": "code",
   "execution_count": 52,
   "metadata": {
    "collapsed": false
   },
   "outputs": [
    {
     "name": "stdout",
     "output_type": "stream",
     "text": [
      "Enter plaintext:HELP ME !\n",
      "encode_morse( HELP ME ! ) ➞  ......-...--. --. -.-.--\n"
     ]
    }
   ],
   "source": [
    "# Solution 20: \n",
    "char_to_dots = {\n",
    "    'A': '.-',   'B': '-...', 'C': '-.-.', 'D': '-..',  'E': '.',    'F': '..-.',\n",
    "    'G': '--.',  'H': '....', 'I': '..',   'J': '.---', 'K': '-.-',  'L': '.-..',\n",
    "    'M': '--',   'N': '-.',   'O': '---',  'P': '.--.', 'Q': '--.-', 'R': '.-.',\n",
    "    'S': '...',  'T': '-',    'U': '..-',  'V': '...-', 'W': '.--',  'X': '-..-',\n",
    "    'Y': '-.--', 'Z': '--..',  \n",
    "\n",
    "    '0': '-----', '1': '.----', '2': '..---', '3': '...--', '4': '....-', \n",
    "    '5': '.....', '6': '-....', '7': '--...', '8': '---..', '9': '----.',\n",
    "\n",
    "    ' ': ' ',      '&': '.-...',  \"'\": '.----.', '@': '.--.-.', ')': '-.--.-', \n",
    "    '(': '-.--.',  ':': '---...', ',': '--..--', '=': '-...-',  '!': '-.-.--', \n",
    "    '.': '.-.-.-', '-': '-....-', '+': '.-.-.', '\"': '.-..-.',  '?': '..--..', \n",
    "    '/': '-..-.'\n",
    "}\n",
    "def encode_morse(plaintext):\n",
    "    b=''\n",
    "    for char in plaintext.upper():\n",
    "            b+=char_to_dots[char]\n",
    "    return b\n",
    "a=input('Enter plaintext:')\n",
    "print ('encode_morse(',a,') ➞ ',encode_morse(a))"
   ]
  },
  {
   "cell_type": "code",
   "execution_count": null,
   "metadata": {
    "collapsed": true
   },
   "outputs": [],
   "source": []
  }
 ],
 "metadata": {
  "hide_input": false,
  "kernelspec": {
   "display_name": "Python 3",
   "language": "python",
   "name": "python3"
  },
  "language_info": {
   "codemirror_mode": {
    "name": "ipython",
    "version": 3
   },
   "file_extension": ".py",
   "mimetype": "text/x-python",
   "name": "python",
   "nbconvert_exporter": "python",
   "pygments_lexer": "ipython3",
   "version": "3.5.1"
  },
  "toc": {
   "base_numbering": 1,
   "nav_menu": {},
   "number_sections": true,
   "sideBar": true,
   "skip_h1_title": false,
   "title_cell": "Table of Contents",
   "title_sidebar": "Contents",
   "toc_cell": false,
   "toc_position": {},
   "toc_section_display": true,
   "toc_window_display": false
  },
  "varInspector": {
   "cols": {
    "lenName": 16,
    "lenType": 16,
    "lenVar": 40
   },
   "kernels_config": {
    "python": {
     "delete_cmd_postfix": "",
     "delete_cmd_prefix": "del ",
     "library": "var_list.py",
     "varRefreshCmd": "print(var_dic_list())"
    },
    "r": {
     "delete_cmd_postfix": ") ",
     "delete_cmd_prefix": "rm(",
     "library": "var_list.r",
     "varRefreshCmd": "cat(var_dic_list()) "
    }
   },
   "types_to_exclude": [
    "module",
    "function",
    "builtin_function_or_method",
    "instance",
    "_Feature"
   ],
   "window_display": false
  }
 },
 "nbformat": 4,
 "nbformat_minor": 2
}
